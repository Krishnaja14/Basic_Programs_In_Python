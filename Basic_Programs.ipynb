{
  "nbformat": 4,
  "nbformat_minor": 0,
  "metadata": {
    "colab": {
      "provenance": [],
      "toc_visible": true,
      "authorship_tag": "ABX9TyNPkqGTkUdg5dtM0Sq2do++",
      "include_colab_link": true
    },
    "kernelspec": {
      "name": "python3",
      "display_name": "Python 3"
    },
    "language_info": {
      "name": "python"
    }
  },
  "cells": [
    {
      "cell_type": "markdown",
      "metadata": {
        "id": "view-in-github",
        "colab_type": "text"
      },
      "source": [
        "<a href=\"https://colab.research.google.com/github/Krishnaja14/Basic_Programs_In_Python/blob/main/Basic_Programs.ipynb\" target=\"_parent\"><img src=\"https://colab.research.google.com/assets/colab-badge.svg\" alt=\"Open In Colab\"/></a>"
      ]
    },
    {
      "cell_type": "code",
      "execution_count": null,
      "metadata": {
        "id": "nBBqSEG0ChTg"
      },
      "outputs": [],
      "source": []
    },
    {
      "cell_type": "markdown",
      "source": [],
      "metadata": {
        "id": "Lw8BgNAZCrYF"
      }
    },
    {
      "cell_type": "code",
      "source": [
        "a=6\n",
        "b=7\n",
        "print(a+b)"
      ],
      "metadata": {
        "colab": {
          "base_uri": "https://localhost:8080/"
        },
        "id": "83AO-ojMCrxc",
        "outputId": "3c946aa7-c240-49a1-a2f7-f24c14b0d41a"
      },
      "execution_count": 1,
      "outputs": [
        {
          "output_type": "stream",
          "name": "stdout",
          "text": [
            "13\n"
          ]
        }
      ]
    },
    {
      "cell_type": "code",
      "source": [
        "a=int(input())\n",
        "b=int(input())\n",
        "print(a+b)"
      ],
      "metadata": {
        "colab": {
          "base_uri": "https://localhost:8080/"
        },
        "id": "kAAaKf4dDMwk",
        "outputId": "ad7f74db-f77a-4c61-b1ca-8c0967bbcb50"
      },
      "execution_count": 3,
      "outputs": [
        {
          "output_type": "stream",
          "name": "stdout",
          "text": [
            "12\n",
            "13\n",
            "25\n"
          ]
        }
      ]
    },
    {
      "cell_type": "code",
      "source": [
        "a=int(input)(\"enter thefirst number\")\n",
        "b=int(input(\"enter the second number\"))\n",
        "if a< b:\n",
        "      print('first numberis less than second\")\n",
        "elif a>\n",
        "            print(\"first number is greater than second\")\n",
        "else:\n",
        "            print(\"first number equal to second\")\n",
        "            enter first number:5\n",
        "            enter the second number:8\n",
        "            first number is less than second\n",
        ""
      ],
      "metadata": {
        "id": "KyxIE6DVGWGd"
      },
      "execution_count": null,
      "outputs": []
    },
    {
      "cell_type": "code",
      "source": [
        "number=int(input())\n",
        "\n",
        "\n",
        "print(\"multiplication Table for\",number,\":\")\n",
        "for i in range(1,11):\n",
        "   result = number*i\n",
        "   print(f\"{number} x {i}= {result}\")"
      ],
      "metadata": {
        "colab": {
          "base_uri": "https://localhost:8080/"
        },
        "id": "hTbM4WGDJ3uu",
        "outputId": "d90d5e01-ce07-4e57-e64d-2b2801cba713"
      },
      "execution_count": 6,
      "outputs": [
        {
          "output_type": "stream",
          "name": "stdout",
          "text": [
            "13\n",
            "multiplication Table for 13 :\n",
            "13 x 1= 13\n",
            "13 x 2= 26\n",
            "13 x 3= 39\n",
            "13 x 4= 52\n",
            "13 x 5= 65\n",
            "13 x 6= 78\n",
            "13 x 7= 91\n",
            "13 x 8= 104\n",
            "13 x 9= 117\n",
            "13 x 10= 130\n"
          ]
        }
      ]
    },
    {
      "cell_type": "code",
      "source": [
        "from re import I\n",
        "from re import I\n",
        "number=int(input())\n",
        "\n",
        "\n",
        "\n",
        "print(\"Multipilcation Table for\",number,\".\")\n",
        "for i in range(1,11):\n",
        "  result=number*I\n",
        "  print(f\"{number}x{i}={result}\")"
      ],
      "metadata": {
        "id": "lDd8tGanKoaP"
      },
      "execution_count": null,
      "outputs": []
    }
  ]
}